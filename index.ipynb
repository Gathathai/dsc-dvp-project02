{
 "cells": [
  {
   "cell_type": "markdown",
   "metadata": {},
   "source": [
    "# Project 2: More Data, More Visualizations"
   ]
  },
  {
   "cell_type": "markdown",
   "metadata": {},
   "source": [
    "For this project, the students will:\n",
    "* find a data set of their choosing\n",
    "* get approval from the instructor to use that data set\n",
    "* upon approval, find another (related) data set\n",
    "* join the new data set with the original one to create an \"enriched\" data set\n",
    "* perform an open-ended Exploratory Data Analysis (EDA) on the enriched data set"
   ]
  },
  {
   "cell_type": "markdown",
   "metadata": {},
   "source": [
    "Regarding the last bullet, \"open-ended\" means the student chooses the EDA that is performed. The student should have at least three types of data analysis (e.g., mean, standard deviation) and at least three types of graphs (e.g., historgram, bar graph). The student will explain why those variables were chosen for numerical or graphical analysis. Finally, the student will make note of any unusual values for any variable that is analyzed."
   ]
  },
  {
   "cell_type": "markdown",
   "metadata": {},
   "source": [
    "### Step 1\n",
    "On the data provided, I will load and clean the yield data and population data "
   ]
  },
  {
   "cell_type": "markdown",
   "metadata": {},
   "source": [
    "## Research Questions\n",
    "##### 1) Which subcounties in Karamoja had the lowest maize and sorghum productivity in the 2017 crop season, and how does this correlate with their population density?\n",
    "(Specific: I will focuses on subcounties with low productivity, Measurable:Both productivity and population density can be quantified, Achievable: Data is available in the dataset, Relevant: Helps NGOs prioritize interventions, Time-bound: Uses the 2017 crop season data.)\n",
    "##### 2) How does the total crop area per subcounty impact the average yield of maize in Karamoja during the 2017 crop season?\n",
    "(Specific: I will examines the relationship between crop area and yield, Measurable: Crop area and yield are numerical variables, Achievable: Data is present in the dataset, Relevant: Helps optimize land use strategies, Time-bound: Limited to the 2017 season.)\n",
    "##### 3) Which districts in Karamoja have the highest food security risk based on the 2017 crop yield per capita, and how does this vary at the subcounty level?\n",
    "(Specific: I will identifies food security risk based on crop yield per capita, Measurable: Yield per capita can be calculated, Achievable: Population and yield data are available, Relevant: Directly informs food security interventions, Time-bound: Uses 2017 season data.)\n"
   ]
  },
  {
   "cell_type": "code",
   "execution_count": 3,
   "metadata": {},
   "outputs": [],
   "source": [
    "import pandas as pd\n",
    "import numpy as np\n",
    "\n",
    "# Load dataset\n",
    "df = pd.read_csv(r\"C:\\Users\\peter\\Downloads\\DATA\\DATA\\TABLES\\Uganda_Karamoja_Subcounty_Crop_Yield_Population.csv\")  # Example CSV file"
   ]
  },
  {
   "cell_type": "code",
   "execution_count": 4,
   "metadata": {},
   "outputs": [
    {
     "name": "stdout",
     "output_type": "stream",
     "text": [
      "OBJECTID          0\n",
      "SUBCOUNTY_NAME    0\n",
      "DISTRICT_NAME     0\n",
      "POP               0\n",
      "Area              0\n",
      "Karamoja          0\n",
      "S_Yield_Ha        0\n",
      "M_Yield_Ha        0\n",
      "Crop_Area_Ha      0\n",
      "S_Area_Ha         0\n",
      "M_Area_Ha         0\n",
      "S_Prod_Tot        0\n",
      "M_Prod_Tot        0\n",
      "dtype: int64\n"
     ]
    }
   ],
   "source": [
    "print(df.isnull().sum())  # Count missing values in each column\n"
   ]
  },
  {
   "cell_type": "code",
   "execution_count": 5,
   "metadata": {},
   "outputs": [],
   "source": [
    "df.dropna(inplace=True)  # Remove rows with any missing values\n",
    "df.dropna(axis=1, inplace=True)  # Remove columns with missing values\n"
   ]
  },
  {
   "cell_type": "code",
   "execution_count": 7,
   "metadata": {},
   "outputs": [
    {
     "name": "stdout",
     "output_type": "stream",
     "text": [
      "Index(['OBJECTID', 'SUBCOUNTY_NAME', 'DISTRICT_NAME', 'POP', 'Area',\n",
      "       'Karamoja', 'S_Yield_Ha', 'M_Yield_Ha', 'Crop_Area_Ha', 'S_Area_Ha',\n",
      "       'M_Area_Ha', 'S_Prod_Tot', 'M_Prod_Tot'],\n",
      "      dtype='object')\n"
     ]
    }
   ],
   "source": [
    "print(df.columns)  # Lists all column names\n"
   ]
  },
  {
   "cell_type": "code",
   "execution_count": 10,
   "metadata": {
    "scrolled": true
   },
   "outputs": [],
   "source": [
    "df.fillna({\"POP\": \"default_value\"}, inplace=True)  # Fill missing values in a specific column\n",
    "df[\"POP\"].fillna(df[\"POP\"].mean(), inplace=True)  # Fill with mean\n"
   ]
  },
  {
   "cell_type": "code",
   "execution_count": 13,
   "metadata": {},
   "outputs": [],
   "source": [
    "df[\"SUBCOUNTY_NAME\"].fillna(\"Unknown\", inplace=True)\n"
   ]
  },
  {
   "cell_type": "code",
   "execution_count": 14,
   "metadata": {},
   "outputs": [],
   "source": [
    "df.drop_duplicates(inplace=True)\n"
   ]
  },
  {
   "cell_type": "code",
   "execution_count": null,
   "metadata": {},
   "outputs": [],
   "source": [
    "Q1 = df[\"numeric_column\"].quantile(0.25)\n",
    "Q3 = df[\"numeric_column\"].quantile(0.75)\n",
    "IQR = Q3 - Q1\n",
    "df = df[(df[\"numeric_column\"] >= (Q1 - 1.5 * IQR)) & (df[\"numeric_column\"] <= (Q3 + 1.5 * IQR))]\n"
   ]
  },
  {
   "cell_type": "code",
   "execution_count": 17,
   "metadata": {},
   "outputs": [],
   "source": [
    "df.to_csv(\"cleaned_data.csv\", index=False)\n"
   ]
  },
  {
   "cell_type": "code",
   "execution_count": 19,
   "metadata": {},
   "outputs": [],
   "source": [
    "df.to_csv(\"cleaned_data.csv\", index=False)  # Saves without the index column\n"
   ]
  },
  {
   "cell_type": "code",
   "execution_count": null,
   "metadata": {},
   "outputs": [],
   "source": [
    "import pandas as pd\n",
    "\n",
    "# Load the cleaned CSV file\n",
    "df = pd.read_csv(\"cleaned_data.csv\")\n",
    "\n",
    "# Display the first few rows\n",
    "print(df.head())\n"
   ]
  },
  {
   "cell_type": "code",
   "execution_count": 20,
   "metadata": {},
   "outputs": [
    {
     "name": "stdout",
     "output_type": "stream",
     "text": [
      "True\n"
     ]
    }
   ],
   "source": [
    "import os\n",
    "print(os.path.exists(\"cleaned_data.csv\"))  # Should return True if the file exists\n"
   ]
  },
  {
   "cell_type": "code",
   "execution_count": 21,
   "metadata": {},
   "outputs": [
    {
     "name": "stdout",
     "output_type": "stream",
     "text": [
      "    OBJECTID              SUBCOUNTY_NAME  DISTRICT_NAME     POP        Area  \\\n",
      "0        263                     KACHERI         KOTIDO   17244  1067176155   \n",
      "1        264                      KOTIDO         KOTIDO   52771   597575188   \n",
      "2        265         KOTIDO TOWN COUNCIL         KOTIDO   27389    23972401   \n",
      "3        266                NAKAPERIMORU         KOTIDO   38775   419111591   \n",
      "4        267                  PANYANGARA         KOTIDO   65704   880955930   \n",
      "5        268                      RENGEN         KOTIDO   41273   652744859   \n",
      "6        591               KAABONG  EAST        KAABONG   42221    60801942   \n",
      "7        592        KAABONG TOWN COUNCIL        KAABONG   38857    13071455   \n",
      "8        593                KAABONG WEST        KAABONG   41454    67612362   \n",
      "9        594                    KALAPATA        KAABONG   99203   223116860   \n",
      "10       595                      KAMION        KAABONG   60070  1199409465   \n",
      "11       596                      KAPEDO        KAABONG   33951   304557831   \n",
      "12       597                     KATHILE        KAABONG   56870   228457417   \n",
      "13       598                   KAWALAKOL        KAABONG   37691  1742041261   \n",
      "14       599                  LOBALANGIT        KAABONG   22907   302572789   \n",
      "15       600                      LODIKO        KAABONG   31820   397700845   \n",
      "16       601                     LOLELIA        KAABONG  100919  1069331387   \n",
      "17       602                      LOYORO        KAABONG   16608  1330019236   \n",
      "18       603            NAPORE (KARENGA)        KAABONG   20394   309577387   \n",
      "19       604                       SIDOK        KAABONG   24092   125330583   \n",
      "20       765                        ABIM           ABIM   14377   188613057   \n",
      "21       766           ABIM TOWN COUNCIL           ABIM   11489   115941152   \n",
      "22       767                      ALEREK           ABIM   12573  1255760525   \n",
      "23       768                     LOTUKEI           ABIM   18641   191684465   \n",
      "24       769                     MORULEM           ABIM   16834   250364895   \n",
      "25       810                      KARITA         AMUDAT   45015   658008801   \n",
      "26       811                       LOROO         AMUDAT   22541   371970302   \n",
      "27       812                      AMUDAT         AMUDAT   30181   596393139   \n",
      "28       813         AMUDAT TOWN COUNCIL         AMUDAT    4053    17207110   \n",
      "29       925                  KATIKEKILE         MOROTO   11772   277451997   \n",
      "30       926                    NADUNGET         MOROTO   42115   596023780   \n",
      "31       927                       TAPAC         MOROTO   21999   622266516   \n",
      "32       928           NORTHERN DIVISION         MOROTO    7161     2738777   \n",
      "33       929           SOUTHERN DIVISION         MOROTO    3272     2121209   \n",
      "34       978                     LOREGAE  NAKAPIRIPIRIT   26644   928683431   \n",
      "35       979  NAKAPIRIPIRIT TOWN COUNCIL  NAKAPIRIPIRIT    1418     4673094   \n",
      "36       980                      NAMALU  NAKAPIRIPIRIT   25905   553067364   \n",
      "37       981                 KAKOMONGOLE  NAKAPIRIPIRIT   15960   312709097   \n",
      "38       982                    LOLACHAT  NAKAPIRIPIRIT   22801   642401705   \n",
      "39       983                 LORENGEDWAT  NAKAPIRIPIRIT    9929   435714604   \n",
      "40       984                   NABILATUK  NAKAPIRIPIRIT   27534   499776866   \n",
      "41      1023                      IRIIRI          NAPAK   46979  1030623258   \n",
      "42      1024                      LOPEEI          NAPAK   18815   790782350   \n",
      "43      1025                 LORENGECORA          NAPAK    2503   118997955   \n",
      "44      1026                      LOTOME          NAPAK   17834   125857565   \n",
      "45      1027                      MATANY          NAPAK   29495   338252511   \n",
      "46      1028          NAPAK TOWN COUNCIL          NAPAK    8010   150906375   \n",
      "47      1029                   NGOLERIET          NAPAK   20790   158887552   \n",
      "48      1295                     NYAKWAE           ABIM   16470   769609687   \n",
      "49      1313                      LOKOPO          NAPAK   23200  1794470536   \n",
      "50      1318                        RUPA         MOROTO   41493  2069554899   \n",
      "51      1320                     MORUITA  NAKAPIRIPIRIT   16588   839293722   \n",
      "\n",
      "   Karamoja  S_Yield_Ha   M_Yield_Ha  Crop_Area_Ha     S_Area_Ha    M_Area_Ha  \\\n",
      "0         Y  354.207411  1137.467019   7023.533691   6434.342449   528.124229   \n",
      "1         Y  367.890523  1162.996687  13587.990760  12455.592640   824.767081   \n",
      "2         Y  369.314177  1167.005832   1656.531855   1520.322052     8.561644   \n",
      "3         Y  283.324569   852.366578   7087.823334   6761.488901    45.721712   \n",
      "4         Y  373.836926  1283.859882  10398.249390  10111.198130   172.611914   \n",
      "5         Y  271.185843  1047.180128  13278.520430  12964.499730   171.585704   \n",
      "6         Y  160.588525   650.123565   1021.316990   1004.647534    15.660409   \n",
      "7         Y  212.210703  1229.213444    175.080527    156.503888    18.526186   \n",
      "8         Y  208.040518  1056.416068    967.336727    910.254122    56.275355   \n",
      "9         Y  209.809352   633.423182   2834.349905   2501.368282   331.225795   \n",
      "10        Y  259.898246   714.475743    997.161021    411.807001   549.863337   \n",
      "11        Y  301.154328  1030.064093   2365.259806   1624.564380   722.649869   \n",
      "12        Y  312.278615  1125.685462   6890.699234   5997.222911   867.873171   \n",
      "13        Y  298.449959   871.612802   3934.432233   2249.777060  1620.876815   \n",
      "14        Y  386.529819   985.192699   1890.248613    879.002339  1005.877396   \n",
      "15        Y  164.652061   815.255729    401.797821    324.202666    75.244398   \n",
      "16        Y  285.213427  1273.397362   2700.676313   2039.327583   656.586397   \n",
      "17        Y  284.183058  1303.403556   1491.771813   1318.309036   154.682239   \n",
      "18        Y  295.734350   765.334925   1494.047587    267.559128  1221.532726   \n",
      "19        Y  285.336294  1396.991494    957.493946    859.649027    97.542243   \n",
      "20        Y  501.263249  1183.089648    999.371589    593.531315   259.449330   \n",
      "21        Y  439.750995  1061.151087    788.462800    472.601700   282.613094   \n",
      "22        Y  520.407672  1259.122045   1266.109868    902.684120   354.449035   \n",
      "23        Y  382.868986  1003.303910    698.171218    364.988891   321.847331   \n",
      "24        Y  407.500417   962.958170    925.054130    600.673107   299.151724   \n",
      "25        Y  193.904842  1286.723173   2513.271830   1358.647499  1100.152370   \n",
      "26        Y  200.696210  1196.088040   1539.401382    879.668004   658.917612   \n",
      "27        Y  239.047878  1379.045945   1651.998420    676.783266   972.174246   \n",
      "28        Y  146.117797   861.208491     60.772086     58.325090     2.416786   \n",
      "29        Y  311.006215   546.140294    145.243518     30.157048   103.277562   \n",
      "30        Y  133.667936   591.270355   2480.121900   2406.190665    70.505694   \n",
      "31        Y  155.869934   211.965635   1111.664207    315.979223   793.237094   \n",
      "32        Y  131.977698   241.538427      0.322316      0.130941     0.191375   \n",
      "33        Y  114.795569     0.000000      0.171390      0.171390     0.000000   \n",
      "34        Y  384.256293  1114.593607   5759.618906   4622.491870   864.110569   \n",
      "35        Y  482.438793  1257.802716     29.145760      1.339919    27.795767   \n",
      "36        Y  560.313070  1325.254872   5793.507623   2197.572106  3293.749460   \n",
      "37        Y  398.979005  1318.261936   3264.534948   2791.837410   457.357605   \n",
      "38        Y  334.284302  1225.930541   5079.779088   4364.693411   655.212276   \n",
      "39        Y  188.699612   795.733280   2008.068169   1917.576345    80.417027   \n",
      "40        Y  259.454122  1066.204758   3276.653762   3156.538704    87.474549   \n",
      "41        Y  229.299157   873.452241   5473.443674   1550.944570  3840.698081   \n",
      "42        Y  108.156411  1053.257168   3120.318045   2121.747320   955.264617   \n",
      "43        Y  184.081197   841.815011   1031.196285    672.121887   358.550335   \n",
      "44        Y  128.555598   507.907068   1849.966589   1770.358693    78.035892   \n",
      "45        Y  130.007687   497.353282   2990.847377   2664.796115   288.329571   \n",
      "46        Y  175.828068   725.813930    792.249273    386.158033   401.173442   \n",
      "47        Y  134.084089   528.699822   1215.227445   1145.339875    68.124005   \n",
      "48        Y  329.759030   779.225031    792.898789    342.816838   331.111340   \n",
      "49        Y  120.862232   748.829862   6471.047334   5830.549392   553.543123   \n",
      "50        Y  114.270921   699.334309   2217.290717   1989.119508   222.838881   \n",
      "51        Y  430.557375  1248.955812   1161.390229    185.283445   959.671162   \n",
      "\n",
      "      S_Prod_Tot    M_Prod_Tot  \n",
      "0   2.279092e+06  6.007239e+05  \n",
      "1   4.582294e+06  9.592014e+05  \n",
      "2   5.614765e+05  9.991488e+03  \n",
      "3   1.915696e+06  3.897166e+04  \n",
      "4   3.779939e+06  2.216095e+05  \n",
      "5   3.515789e+06  1.796811e+05  \n",
      "6   1.613349e+05  1.018120e+04  \n",
      "7   3.321180e+04  2.277264e+04  \n",
      "8   1.893697e+05  5.945019e+04  \n",
      "9   5.248105e+05  2.098061e+05  \n",
      "10  1.070279e+05  3.928640e+05  \n",
      "11  4.892446e+05  7.443757e+05  \n",
      "12  1.872804e+06  9.769522e+05  \n",
      "13  6.714459e+05  1.412777e+06  \n",
      "14  3.397606e+05  9.909831e+05  \n",
      "15  5.338064e+04  6.134343e+04  \n",
      "16  5.816436e+05  8.360954e+05  \n",
      "17  3.746411e+05  2.016134e+05  \n",
      "18  7.912642e+04  9.348817e+05  \n",
      "19  2.452891e+05  1.362657e+05  \n",
      "20  2.975154e+05  3.069518e+05  \n",
      "21  2.078271e+05  2.998952e+05  \n",
      "22  4.697637e+05  4.462946e+05  \n",
      "23  1.397429e+05  3.229107e+05  \n",
      "24  2.447745e+05  2.880706e+05  \n",
      "25  2.634483e+05  1.415592e+06  \n",
      "26  1.765460e+05  7.881235e+05  \n",
      "27  1.617836e+05  1.340673e+06  \n",
      "28  8.522334e+03  2.081356e+03  \n",
      "29  9.379029e+03  5.640404e+04  \n",
      "30  3.216305e+05  4.168793e+04  \n",
      "31  4.925166e+04  1.681390e+05  \n",
      "32  1.728126e+01  4.622440e+01  \n",
      "33  1.967487e+01  0.000000e+00  \n",
      "34  1.776222e+06  9.631321e+05  \n",
      "35  6.464290e+02  3.496159e+04  \n",
      "36  1.231328e+06  4.365058e+06  \n",
      "37  1.113885e+06  6.029171e+05  \n",
      "38  1.459048e+06  8.032447e+05  \n",
      "39  3.618459e+05  6.399050e+04  \n",
      "40  8.189770e+05  9.326578e+04  \n",
      "41  3.556303e+05  3.354666e+06  \n",
      "42  2.294806e+05  1.006139e+06  \n",
      "43  1.237250e+05  3.018331e+05  \n",
      "44  2.275895e+05  3.963498e+04  \n",
      "45  3.464440e+05  1.434017e+05  \n",
      "46  6.789742e+04  2.911773e+05  \n",
      "47  1.535719e+05  3.601715e+04  \n",
      "48  1.130469e+05  2.580102e+05  \n",
      "49  7.046932e+05  4.145096e+05  \n",
      "50  2.272985e+05  1.558389e+05  \n",
      "51  7.977515e+04  1.198587e+06  \n"
     ]
    }
   ],
   "source": [
    "print(df)\n"
   ]
  },
  {
   "cell_type": "code",
   "execution_count": 22,
   "metadata": {},
   "outputs": [
    {
     "name": "stdout",
     "output_type": "stream",
     "text": [
      "File saved at: C:\\Users\\peter\\Documents\\Flatiron\\dsc-dvp-project02\\cleaned_data.csv\n"
     ]
    }
   ],
   "source": [
    "import os\n",
    "\n",
    "file_path = os.path.abspath(\"cleaned_data.csv\")  # Get the full path\n",
    "df.to_csv(file_path, index=False)  # Save CSV\n",
    "\n",
    "print(\"File saved at:\", file_path)  # Print file location\n"
   ]
  },
  {
   "cell_type": "markdown",
   "metadata": {},
   "source": [
    "### Tableau presentation link \n",
    "[here](https://public.tableau.com/views/Project2_17391229215050/KaramojaFoodSecurityMonitor?:language=en-US&:sid=&:redirect=auth&:display_count=n&:origin=viz_share_link)"
   ]
  },
  {
   "cell_type": "markdown",
   "metadata": {},
   "source": [
    "### Power Point Presentation link \n",
    "[here](https://drive.google.com/file/d/1ar4XiE5wW1LJw14vOXoSbCcNQrc6Rtje/view?usp=sharing)  \n"
   ]
  },
  {
   "cell_type": "code",
   "execution_count": null,
   "metadata": {},
   "outputs": [],
   "source": []
  }
 ],
 "metadata": {
  "kernelspec": {
   "display_name": "Python (learn-env)",
   "language": "python",
   "name": "learn-env"
  },
  "language_info": {
   "codemirror_mode": {
    "name": "ipython",
    "version": 3
   },
   "file_extension": ".py",
   "mimetype": "text/x-python",
   "name": "python",
   "nbconvert_exporter": "python",
   "pygments_lexer": "ipython3",
   "version": "3.8.5"
  }
 },
 "nbformat": 4,
 "nbformat_minor": 5
}
